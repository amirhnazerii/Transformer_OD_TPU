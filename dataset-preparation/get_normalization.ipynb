{
 "cells": [
  {
   "cell_type": "code",
   "execution_count": 2,
   "id": "cabe23b9-0d23-4f74-b56e-a53d88e91839",
   "metadata": {},
   "outputs": [],
   "source": [
    "import numpy as np\n",
    "import pandas as pd\n",
    "\n",
    "import torch\n",
    "import torchvision\n",
    "from torch.utils.data import Dataset, DataLoader\n",
    "import rasterio\n",
    "\n",
    "from tqdm import tqdm\n",
    "\n",
    "from PIL import Image\n",
    "\n",
    "import os\n",
    "import glob"
   ]
  },
  {
   "cell_type": "code",
   "execution_count": 3,
   "id": "bbae3c50-81ba-4d93-aee8-ea5041f679aa",
   "metadata": {},
   "outputs": [
    {
     "name": "stdout",
     "output_type": "stream",
     "text": [
      "1182\n"
     ]
    }
   ],
   "source": [
    "data_directory = '/workspace/processed_data/validate'\n",
    "tif_files = glob.glob(os.path.join(data_directory, '**', '*.tif'), recursive=True)\n",
    "print(len(tif_files))"
   ]
  },
  {
   "cell_type": "markdown",
   "id": "4de33017-60cc-4bda-a4f2-bf2830ddaaa5",
   "metadata": {},
   "source": [
    "## Convert all elevation into relative elevation"
   ]
  },
  {
   "cell_type": "code",
   "execution_count": 118,
   "id": "9fc3baf5-abf8-41a7-a972-13c11f531af7",
   "metadata": {},
   "outputs": [
    {
     "name": "stderr",
     "output_type": "stream",
     "text": [
      "100%|███████████████████████████████████████| 6008/6008 [05:50<00:00, 17.12it/s]\n"
     ]
    }
   ],
   "source": [
    "for tif_file in tqdm(tif_files, total=len(tif_files)):\n",
    "    with rasterio.open(tif_file, 'r') as src:\n",
    "        kwrds = src.profile\n",
    "        data = src.read(1)\n",
    "\n",
    "        min_value = data.min()\n",
    "        \n",
    "        # subtract minimum value from the raster\n",
    "        new_data = data - min_value\n",
    "\n",
    "    kwrds.update(\n",
    "        dtype=rasterio.float32,\n",
    "        nodata=None\n",
    "    )\n",
    "    \n",
    "    with rasterio.open(tif_file, 'w', **kwrds) as dst:\n",
    "        dst.write(new_data, 1)\n"
   ]
  },
  {
   "cell_type": "code",
   "execution_count": 4,
   "id": "1e3906ad-fcf5-48bc-9ab6-832b82e5634c",
   "metadata": {},
   "outputs": [
    {
     "name": "stdout",
     "output_type": "stream",
     "text": [
      "[[[4.786621   4.7681274  4.7783813  ... 1.3392334  1.3499146  1.3157349 ]\n",
      "  [4.8010254  4.762512   4.7679443  ... 1.2976074  1.305603   1.2954712 ]\n",
      "  [4.810791   4.776306   4.7576294  ... 1.2773438  1.270752   1.2727661 ]\n",
      "  ...\n",
      "  [7.98761    8.025574   7.972351   ... 0.5654297  0.52996826 0.5125122 ]\n",
      "  [7.998291   8.030762   7.932007   ... 0.5734253  0.4968872  0.46484375]\n",
      "  [8.032349   8.029602   7.9330444  ... 0.66845703 0.6062012  0.56030273]]]\n",
      "0.0\n"
     ]
    }
   ],
   "source": [
    "with rasterio.open(tif_files[1], 'r') as src:\n",
    "    print(src.read())\n",
    "    print(src.read().min())"
   ]
  },
  {
   "cell_type": "markdown",
   "id": "8b92ee9f-c32d-4dba-8ce6-7d7e5dc55969",
   "metadata": {},
   "source": [
    "## Get mean and standard deviation for all image chips"
   ]
  },
  {
   "cell_type": "code",
   "execution_count": 5,
   "id": "5a7920ef-a84a-4113-ad82-973f28c6d251",
   "metadata": {},
   "outputs": [],
   "source": [
    "class ImageData(Dataset):\n",
    "    \n",
    "    def __init__(self):\n",
    "        super().__init__()\n",
    "        self.file_paths = tif_files\n",
    "    \n",
    "    def __len__(self):\n",
    "        return len(self.file_paths)\n",
    "    \n",
    "    def __getitem__(self, idx):\n",
    "        \n",
    "        # import\n",
    "        file_path = self.file_paths[idx]        \n",
    "        with rasterio.open(file_path, mode='r') as src:\n",
    "            data = src.read().astype('float32')\n",
    "\n",
    "        return data\n"
   ]
  },
  {
   "cell_type": "code",
   "execution_count": 6,
   "id": "e3d2f92c-ced8-4b15-95cf-3a15a002fbc7",
   "metadata": {},
   "outputs": [],
   "source": [
    "image_dataset = ImageData()\n",
    "image_loader = DataLoader(image_dataset, \n",
    "                          batch_size  = 1, \n",
    "                          shuffle     = False, \n",
    "                          num_workers = 0)"
   ]
  },
  {
   "cell_type": "code",
   "execution_count": 8,
   "id": "da094464-bae6-41d4-a9b5-7957297a723c",
   "metadata": {},
   "outputs": [
    {
     "name": "stderr",
     "output_type": "stream",
     "text": [
      "100%|███████████████████████████████████████| 6008/6008 [01:18<00:00, 76.29it/s]"
     ]
    },
    {
     "name": "stdout",
     "output_type": "stream",
     "text": [
      "Training data stats:\n",
      "- mean: 55.8164\n",
      "- std:  185.5808\n"
     ]
    },
    {
     "name": "stderr",
     "output_type": "stream",
     "text": [
      "\n"
     ]
    }
   ],
   "source": [
    "psum    = torch.tensor([0.0])\n",
    "psum_sq = torch.tensor([0.0])\n",
    "index = 0\n",
    "# loop through images\n",
    "for inputs in tqdm(image_loader):\n",
    "    psum += inputs.sum()\n",
    "    psum_sq += (inputs ** 2).sum()\n",
    "    index += 1\n",
    "\n",
    "# pixel count\n",
    "count = len(tif_files) * 800 * 800\n",
    "\n",
    "# mean and STD\n",
    "total_mean = psum / count\n",
    "total_var  = (psum_sq / count) - (total_mean ** 2)\n",
    "total_std  = torch.sqrt(total_var)\n",
    "\n",
    "# output\n",
    "print('Training data stats:')\n",
    "print('- mean: {:.4f}'.format(total_mean.item()))\n",
    "print('- std:  {:.4f}'.format(total_std.item()))"
   ]
  },
  {
   "cell_type": "code",
   "execution_count": null,
   "id": "a1637b87-0a59-4cc0-9581-a62d95016e70",
   "metadata": {},
   "outputs": [],
   "source": []
  }
 ],
 "metadata": {
  "kernelspec": {
   "display_name": "Python 3 (ipykernel)",
   "language": "python",
   "name": "python3"
  },
  "language_info": {
   "codemirror_mode": {
    "name": "ipython",
    "version": 3
   },
   "file_extension": ".py",
   "mimetype": "text/x-python",
   "name": "python",
   "nbconvert_exporter": "python",
   "pygments_lexer": "ipython3",
   "version": "3.10.14"
  }
 },
 "nbformat": 4,
 "nbformat_minor": 5
}
