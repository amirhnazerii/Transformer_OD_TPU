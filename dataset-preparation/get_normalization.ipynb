{
 "cells": [
  {
   "cell_type": "code",
   "execution_count": 19,
   "id": "cabe23b9-0d23-4f74-b56e-a53d88e91839",
   "metadata": {},
   "outputs": [],
   "source": [
    "import numpy as np\n",
    "import pandas as pd\n",
    "\n",
    "import torch\n",
    "import torchvision\n",
    "from torch.utils.data import Dataset, DataLoader\n",
    "\n",
    "\n",
    "from tqdm import tqdm\n",
    "\n",
    "from PIL import Image"
   ]
  },
  {
   "cell_type": "code",
   "execution_count": 15,
   "id": "17946900-d615-4150-bd71-a33f5464a388",
   "metadata": {},
   "outputs": [],
   "source": [
    "import os\n",
    "import glob"
   ]
  },
  {
   "cell_type": "code",
   "execution_count": 17,
   "id": "bbae3c50-81ba-4d93-aee8-ea5041f679aa",
   "metadata": {},
   "outputs": [],
   "source": [
    "data_directory = '/workspace/processed_data'\n",
    "tif_files = glob.glob(os.path.join(data_directory, '**', '*.tif'), recursive=True)"
   ]
  },
  {
   "cell_type": "code",
   "execution_count": 57,
   "id": "c1b2b4b3-8284-4b68-a9d5-da67e6531e89",
   "metadata": {},
   "outputs": [
    {
     "name": "stdout",
     "output_type": "stream",
     "text": [
      "6013\n"
     ]
    }
   ],
   "source": [
    "print(len(tif_files))"
   ]
  },
  {
   "cell_type": "code",
   "execution_count": 45,
   "id": "5a7920ef-a84a-4113-ad82-973f28c6d251",
   "metadata": {},
   "outputs": [],
   "source": [
    "class ImageData(Dataset):\n",
    "    \n",
    "    def __init__(self):\n",
    "        super().__init__()\n",
    "        self.file_paths = tif_files\n",
    "    \n",
    "    def __len__(self):\n",
    "        return len(self.file_paths)\n",
    "    \n",
    "    def __getitem__(self, idx):\n",
    "        \n",
    "        # import\n",
    "        file_path = self.file_paths[idx]        \n",
    "        with Image.open(file_path) as img:\n",
    "                data = np.array(img).astype('float32') \n",
    "\n",
    "        return data\n"
   ]
  },
  {
   "cell_type": "code",
   "execution_count": 46,
   "id": "e3d2f92c-ced8-4b15-95cf-3a15a002fbc7",
   "metadata": {},
   "outputs": [],
   "source": [
    "image_dataset = ImageData()\n",
    "image_loader = DataLoader(image_dataset, \n",
    "                          batch_size  = 1, \n",
    "                          shuffle     = False, \n",
    "                          num_workers = 0)"
   ]
  },
  {
   "cell_type": "code",
   "execution_count": null,
   "id": "da094464-bae6-41d4-a9b5-7957297a723c",
   "metadata": {},
   "outputs": [],
   "source": [
    "mean    = torch.tensor([0.0])\n",
    "var = torch.tensor([0.0])\n",
    "minimum = torch.tensor([0.0])\n",
    "maximum = torch.tensor([0.0])\n",
    "\n",
    "# loop through images\n",
    "for inputs in tqdm(image_loader):\n",
    "    if torch.any(inputs < 0):\n",
    "        continue\n",
    "    imgmean = torch.mean(inputs)\n",
    "    print(imgmean)\n",
    "    imgvar = torch.var(inputs)\n",
    "    mean += (imgmean / len(tif_files))\n",
    "    var += (imgvar / len(tif_files))\n",
    "\n",
    "p_sqrt = torch.sqrt(var)"
   ]
  },
  {
   "cell_type": "code",
   "execution_count": 66,
   "id": "3379eee1-87d7-4081-ba8e-de1df384acc7",
   "metadata": {},
   "outputs": [
    {
     "name": "stdout",
     "output_type": "stream",
     "text": [
      "tensor([67805.0391])\n",
      "tensor([1.1258e+14])\n",
      "tensor([10610533.])\n"
     ]
    }
   ],
   "source": [
    "print(mean)\n",
    "print(var)\n",
    "print(p_sqrt)"
   ]
  }
 ],
 "metadata": {
  "kernelspec": {
   "display_name": "Python 3 (ipykernel)",
   "language": "python",
   "name": "python3"
  },
  "language_info": {
   "codemirror_mode": {
    "name": "ipython",
    "version": 3
   },
   "file_extension": ".py",
   "mimetype": "text/x-python",
   "name": "python",
   "nbconvert_exporter": "python",
   "pygments_lexer": "ipython3",
   "version": "3.10.14"
  }
 },
 "nbformat": 4,
 "nbformat_minor": 5
}
