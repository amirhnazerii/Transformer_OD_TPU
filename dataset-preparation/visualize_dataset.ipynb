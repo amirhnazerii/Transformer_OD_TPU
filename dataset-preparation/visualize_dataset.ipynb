{
 "cells": [
  {
   "cell_type": "code",
   "execution_count": 1,
   "id": "966e735e-3cf8-4c10-9749-328a6725b51a",
   "metadata": {},
   "outputs": [],
   "source": [
    "import sys\n",
    "import os\n",
    "\n",
    "module_path = os.path.abspath(os.path.join('/workspace/Transformer_OD_TPU'))\n",
    "if module_path not in sys.path:\n",
    "    sys.path.append(module_path)"
   ]
  },
  {
   "cell_type": "code",
   "execution_count": 2,
   "id": "0be9f01d-410c-44f1-8e05-f1bec3305d89",
   "metadata": {},
   "outputs": [],
   "source": [
    "import matplotlib.pyplot as plt"
   ]
  },
  {
   "cell_type": "code",
   "execution_count": 3,
   "id": "3005575d-f06f-4099-994e-4efcc1b4fefc",
   "metadata": {},
   "outputs": [],
   "source": [
    "import argparse\n",
    "import datetime\n",
    "import json\n",
    "import random\n",
    "import time\n",
    "from pathlib import Path\n",
    "\n",
    "import numpy as np\n",
    "import torch\n",
    "from torch.utils.data import DataLoader, DistributedSampler\n",
    "\n",
    "import datasets\n",
    "import util.misc as utils\n",
    "from datasets import build_dataset, get_coco_api_from_dataset\n",
    "from engine import evaluate, train_one_epoch\n",
    "from models import build_model"
   ]
  },
  {
   "cell_type": "code",
   "execution_count": 4,
   "id": "e6c5d641-3879-4336-972a-2d3b45c0dff4",
   "metadata": {},
   "outputs": [],
   "source": [
    "import main"
   ]
  },
  {
   "cell_type": "code",
   "execution_count": 5,
   "id": "fba0c7ef-7f5a-432a-ac9d-c3b81fa2367a",
   "metadata": {},
   "outputs": [],
   "source": [
    "sys.argv = ['main.py', '--coco_path', '/workspace/processed_data']"
   ]
  },
  {
   "cell_type": "code",
   "execution_count": 6,
   "id": "0d3b443c-c520-40a6-8fc6-4a287c1ba0a7",
   "metadata": {},
   "outputs": [],
   "source": [
    "parser = main.get_args_parser()\n",
    "args = parser.parse_args()"
   ]
  },
  {
   "cell_type": "code",
   "execution_count": 7,
   "id": "31e22900-881f-405e-9c09-a2925f337f68",
   "metadata": {},
   "outputs": [
    {
     "name": "stdout",
     "output_type": "stream",
     "text": [
      "loading annotations into memory...\n",
      "Done (t=0.05s)\n",
      "creating index...\n",
      "index created!\n",
      "loading annotations into memory...\n",
      "Done (t=0.01s)\n",
      "creating index...\n",
      "index created!\n"
     ]
    }
   ],
   "source": [
    "dataset_train = build_dataset(image_set='train', args=args)\n",
    "dataset_val = build_dataset(image_set='val', args=args)"
   ]
  },
  {
   "cell_type": "code",
   "execution_count": 8,
   "id": "061104d1-56e7-4632-b093-257c2735cccc",
   "metadata": {},
   "outputs": [
    {
     "data": {
      "text/plain": [
       "Dataset CocoDetection\n",
       "    Number of datapoints: 1185\n",
       "    Root location: /workspace/processed_data/validate"
      ]
     },
     "execution_count": 8,
     "metadata": {},
     "output_type": "execute_result"
    }
   ],
   "source": [
    "dataset_val"
   ]
  },
  {
   "cell_type": "code",
   "execution_count": 9,
   "id": "925fc049-97d3-4676-90cb-fbc71fcbfc86",
   "metadata": {},
   "outputs": [],
   "source": [
    "sampler_train = torch.utils.data.RandomSampler(dataset_train)\n",
    "sampler_val = torch.utils.data.SequentialSampler(dataset_val)\n",
    "\n",
    "batch_sampler_train = torch.utils.data.BatchSampler(\n",
    "    sampler_train, args.batch_size, drop_last=True)\n",
    "\n",
    "data_loader_train = DataLoader(dataset_train, batch_sampler=batch_sampler_train,\n",
    "                                collate_fn=utils.collate_fn, num_workers=args.num_workers)\n",
    "data_loader_val = DataLoader(dataset_val, args.batch_size, sampler=sampler_val,\n",
    "                            drop_last=False, collate_fn=utils.collate_fn, num_workers=args.num_workers)"
   ]
  },
  {
   "cell_type": "code",
   "execution_count": 10,
   "id": "465b8706-5a5e-4701-a13d-c9132fdacd75",
   "metadata": {},
   "outputs": [],
   "source": [
    "base_ds = get_coco_api_from_dataset(dataset_val)"
   ]
  },
  {
   "cell_type": "code",
   "execution_count": 11,
   "id": "9d43eeb3-0be3-4dc4-be1c-0335e4f17284",
   "metadata": {},
   "outputs": [
    {
     "name": "stdout",
     "output_type": "stream",
     "text": [
      "(tensor([[[[-0.0064, -0.0064, -0.0064,  ...,  0.0000,  0.0000,  0.0000],\n",
      "          [-0.0064, -0.0064, -0.0064,  ...,  0.0000,  0.0000,  0.0000],\n",
      "          [-0.0064, -0.0064, -0.0064,  ...,  0.0000,  0.0000,  0.0000],\n",
      "          ...,\n",
      "          [ 0.0000,  0.0000,  0.0000,  ...,  0.0000,  0.0000,  0.0000],\n",
      "          [ 0.0000,  0.0000,  0.0000,  ...,  0.0000,  0.0000,  0.0000],\n",
      "          [ 0.0000,  0.0000,  0.0000,  ...,  0.0000,  0.0000,  0.0000]],\n",
      "\n",
      "         [[-0.0064, -0.0064, -0.0064,  ...,  0.0000,  0.0000,  0.0000],\n",
      "          [-0.0064, -0.0064, -0.0064,  ...,  0.0000,  0.0000,  0.0000],\n",
      "          [-0.0064, -0.0064, -0.0064,  ...,  0.0000,  0.0000,  0.0000],\n",
      "          ...,\n",
      "          [ 0.0000,  0.0000,  0.0000,  ...,  0.0000,  0.0000,  0.0000],\n",
      "          [ 0.0000,  0.0000,  0.0000,  ...,  0.0000,  0.0000,  0.0000],\n",
      "          [ 0.0000,  0.0000,  0.0000,  ...,  0.0000,  0.0000,  0.0000]],\n",
      "\n",
      "         [[-0.0064, -0.0064, -0.0064,  ...,  0.0000,  0.0000,  0.0000],\n",
      "          [-0.0064, -0.0064, -0.0064,  ...,  0.0000,  0.0000,  0.0000],\n",
      "          [-0.0064, -0.0064, -0.0064,  ...,  0.0000,  0.0000,  0.0000],\n",
      "          ...,\n",
      "          [ 0.0000,  0.0000,  0.0000,  ...,  0.0000,  0.0000,  0.0000],\n",
      "          [ 0.0000,  0.0000,  0.0000,  ...,  0.0000,  0.0000,  0.0000],\n",
      "          [ 0.0000,  0.0000,  0.0000,  ...,  0.0000,  0.0000,  0.0000]]],\n",
      "\n",
      "\n",
      "        [[[-0.0064, -0.0064, -0.0064,  ..., -0.0064, -0.0064, -0.0064],\n",
      "          [-0.0064, -0.0064, -0.0064,  ..., -0.0064, -0.0064, -0.0064],\n",
      "          [-0.0064, -0.0064, -0.0064,  ..., -0.0064, -0.0064, -0.0064],\n",
      "          ...,\n",
      "          [-0.0064, -0.0064, -0.0064,  ..., -0.0064, -0.0064, -0.0064],\n",
      "          [-0.0064, -0.0064, -0.0064,  ..., -0.0064, -0.0064, -0.0064],\n",
      "          [-0.0064, -0.0064, -0.0064,  ..., -0.0064, -0.0064, -0.0064]],\n",
      "\n",
      "         [[-0.0064, -0.0064, -0.0064,  ..., -0.0064, -0.0064, -0.0064],\n",
      "          [-0.0064, -0.0064, -0.0064,  ..., -0.0064, -0.0064, -0.0064],\n",
      "          [-0.0064, -0.0064, -0.0064,  ..., -0.0064, -0.0064, -0.0064],\n",
      "          ...,\n",
      "          [-0.0064, -0.0064, -0.0064,  ..., -0.0064, -0.0064, -0.0064],\n",
      "          [-0.0064, -0.0064, -0.0064,  ..., -0.0064, -0.0064, -0.0064],\n",
      "          [-0.0064, -0.0064, -0.0064,  ..., -0.0064, -0.0064, -0.0064]],\n",
      "\n",
      "         [[-0.0064, -0.0064, -0.0064,  ..., -0.0064, -0.0064, -0.0064],\n",
      "          [-0.0064, -0.0064, -0.0064,  ..., -0.0064, -0.0064, -0.0064],\n",
      "          [-0.0064, -0.0064, -0.0064,  ..., -0.0064, -0.0064, -0.0064],\n",
      "          ...,\n",
      "          [-0.0064, -0.0064, -0.0064,  ..., -0.0064, -0.0064, -0.0064],\n",
      "          [-0.0064, -0.0064, -0.0064,  ..., -0.0064, -0.0064, -0.0064],\n",
      "          [-0.0064, -0.0064, -0.0064,  ..., -0.0064, -0.0064, -0.0064]]]]), ({'boxes': tensor([[0.5651, 0.7772, 0.1302, 0.1266],\n",
      "        [0.6315, 0.6911, 0.1302, 0.1266]]), 'labels': tensor([0, 0]), 'image_id': tensor([1806]), 'area': tensor([3900.3164, 3900.3164]), 'iscrowd': tensor([0, 0]), 'orig_size': tensor([800, 800]), 'size': tensor([493, 480])}, {'boxes': tensor([[0.5425, 0.7725, 0.1250, 0.1250]]), 'labels': tensor([0]), 'image_id': tensor([3354]), 'area': tensor([7056.]), 'iscrowd': tensor([0]), 'orig_size': tensor([800, 800]), 'size': tensor([672, 672])}))\n"
     ]
    }
   ],
   "source": [
    "first_batch = next(iter(data_loader_train))\n",
    "print(first_batch)"
   ]
  },
  {
   "cell_type": "code",
   "execution_count": 12,
   "id": "840a5227-3652-459e-8903-6cb159d0d692",
   "metadata": {},
   "outputs": [
    {
     "name": "stdout",
     "output_type": "stream",
     "text": [
      "torch.Size([3, 672, 672])\n"
     ]
    }
   ],
   "source": [
    "print(first_batch[0].tensors[0].shape)"
   ]
  },
  {
   "cell_type": "code",
   "execution_count": 15,
   "id": "402ff32a-5352-42bd-ac55-f05d135faf12",
   "metadata": {},
   "outputs": [],
   "source": [
    "sample = first_batch[0].tensors[0].cpu().numpy()"
   ]
  },
  {
   "cell_type": "code",
   "execution_count": 16,
   "id": "98b64321-635a-4b2a-9063-01cc753ab5e5",
   "metadata": {},
   "outputs": [
    {
     "data": {
      "text/plain": [
       "<matplotlib.image.AxesImage at 0x71c506478eb0>"
      ]
     },
     "execution_count": 16,
     "metadata": {},
     "output_type": "execute_result"
    },
    {
     "data": {
      "image/png": "[encoded data removed]",
      "text/plain": [
       "<Figure size 640x480 with 1 Axes>"
      ]
     },
     "metadata": {},
     "output_type": "display_data"
    }
   ],
   "source": [
    "plt.imshow(sample[0,:,:])"
   ]
  },
  {
   "cell_type": "code",
   "execution_count": null,
   "id": "fcf40062-a992-4beb-a4b0-a2b086e697e2",
   "metadata": {},
   "outputs": [],
   "source": []
  }
 ],
 "metadata": {
  "kernelspec": {
   "display_name": "Python 3 (ipykernel)",
   "language": "python",
   "name": "python3"
  },
  "language_info": {
   "codemirror_mode": {
    "name": "ipython",
    "version": 3
   },
   "file_extension": ".py",
   "mimetype": "text/x-python",
   "name": "python",
   "nbconvert_exporter": "python",
   "pygments_lexer": "ipython3",
   "version": "3.10.14"
  }
 },
 "nbformat": 4,
 "nbformat_minor": 5
}
