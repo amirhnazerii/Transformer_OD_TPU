{
 "cells": [
  {
   "cell_type": "code",
   "execution_count": 1,
   "id": "cabe23b9-0d23-4f74-b56e-a53d88e91839",
   "metadata": {},
   "outputs": [],
   "source": [
    "import numpy as np\n",
    "import pandas as pd\n",
    "\n",
    "import torch\n",
    "import torchvision\n",
    "from torch.utils.data import Dataset, DataLoader\n",
    "import rasterio\n",
    "\n",
    "from tqdm import tqdm\n",
    "\n",
    "from PIL import Image\n",
    "\n",
    "import os\n",
    "import glob\n",
    "\n",
    "from matplotlib import pyplot as plt"
   ]
  },
  {
   "cell_type": "code",
   "execution_count": 55,
   "id": "bbae3c50-81ba-4d93-aee8-ea5041f679aa",
   "metadata": {},
   "outputs": [
    {
     "name": "stdout",
     "output_type": "stream",
     "text": [
      "6012\n"
     ]
    }
   ],
   "source": [
    "data_directory = '/workspace/Data_share/'\n",
    "tif_files = glob.glob(os.path.join(data_directory, '**', '*.tif'), recursive=True)\n",
    "print(len(tif_files))"
   ]
  },
  {
   "cell_type": "code",
   "execution_count": 52,
   "id": "0b314081-4f3d-4887-92a6-64daa0dbac4e",
   "metadata": {},
   "outputs": [],
   "source": [
    "ca_files = glob.glob(os.path.join('/workspace/Data_share/Data_share/CA', '**', '*.tif'), recursive=True)\n",
    "il_files = glob.glob(os.path.join('/workspace/Data_share/Data_share/IL', '**', '*.tif'), recursive=True)\n",
    "nd_files = glob.glob(os.path.join('/workspace/Data_share/Data_share/ND', '**', '*.tif'), recursive=True)\n",
    "ne_files = glob.glob(os.path.join('/workspace/Data_share/Data_share/NE', '**', '*.tif'), recursive=True)"
   ]
  },
  {
   "cell_type": "markdown",
   "id": "14c285d8-d40a-4f54-a7f0-63ef7c2df9c8",
   "metadata": {},
   "source": [
    "## Get Statistics for all sub-directories"
   ]
  },
  {
   "cell_type": "code",
   "execution_count": 53,
   "id": "5a7920ef-a84a-4113-ad82-973f28c6d251",
   "metadata": {},
   "outputs": [],
   "source": [
    "class ImageData(Dataset):\n",
    "    \n",
    "    def __init__(self, file_paths):\n",
    "        super().__init__()\n",
    "        self.file_paths = file_paths\n",
    "    \n",
    "    def __len__(self):\n",
    "        return len(self.file_paths)\n",
    "    \n",
    "    def __getitem__(self, idx):\n",
    "        \n",
    "        # import\n",
    "        file_path = self.file_paths[idx]        \n",
    "        with rasterio.open(file_path, mode='r') as src:\n",
    "            data = src.read().astype('float32')\n",
    "\n",
    "        return data\n"
   ]
  },
  {
   "cell_type": "code",
   "execution_count": 54,
   "id": "5ab93eac-b156-429d-8da1-db5327932a9e",
   "metadata": {},
   "outputs": [
    {
     "name": "stderr",
     "output_type": "stream",
     "text": [
      "100%|█████████████████████████████████████████| 612/612 [00:16<00:00, 37.58it/s]"
     ]
    },
    {
     "name": "stdout",
     "output_type": "stream",
     "text": [
      "Training data stats for ND:\n",
      "- mean: 36.0803\n",
      "- std:  108.9932\n",
      "- maximum average elevation: 463.3238\n",
      "- highest maximum elevation: 470.6870\n",
      "- average elevation change: 12.5549\n"
     ]
    },
    {
     "name": "stderr",
     "output_type": "stream",
     "text": [
      "\n"
     ]
    }
   ],
   "source": [
    "for state, files in {'ND': nd_files}.items():\n",
    "    image_dataset = ImageData(files)\n",
    "    image_loader = DataLoader(image_dataset, \n",
    "                          batch_size  = 1, \n",
    "                          shuffle     = False, \n",
    "                          num_workers = 0)\n",
    "    psum    = torch.tensor([0.0])\n",
    "    psum_sq = torch.tensor([0.0])\n",
    "    avg_elevation = []\n",
    "    min_elevation = []\n",
    "    max_elevation = []\n",
    "    elevation_range = []\n",
    "    \n",
    "    # loop through images\n",
    "    for inputs in tqdm(image_loader):\n",
    "        if inputs.max() > 100000 or inputs.min() < 0:\n",
    "            continue\n",
    "        psum += inputs.sum()\n",
    "        psum_sq += (inputs ** 2).sum()\n",
    "    \n",
    "        avg_elevation.append(inputs.mean())\n",
    "        min_elevation.append(inputs.mean())\n",
    "        max_elevation.append(inputs.max())\n",
    "        elevation_range.append(inputs.max() - inputs.min())\n",
    "        \n",
    "    # pixel count\n",
    "    count = len(tif_files) * 800 * 800\n",
    "    \n",
    "    # mean and STD\n",
    "    total_mean = psum / count\n",
    "    total_var  = (psum_sq / count) - (total_mean ** 2)\n",
    "    total_std  = torch.sqrt(total_var)\n",
    "    \n",
    "    avg_elevation = torch.stack(avg_elevation, dim=0)\n",
    "    min_elevation = torch.stack(min_elevation, dim=0)\n",
    "    max_elevation = torch.stack(max_elevation, dim=0)\n",
    "    elevation_range = torch.stack(elevation_range, dim=0)\n",
    "    \n",
    "    # output\n",
    "    print(f'Training data stats for {state}:')\n",
    "    print('- mean: {:.4f}'.format(total_mean.item()))\n",
    "    print('- std:  {:.4f}'.format(total_std.item()))\n",
    "    print('- maximum average elevation: {:.4f}'.format(avg_elevation.max().item()))\n",
    "    print('- highest maximum elevation: {:.4f}'.format(max_elevation.max().item()))\n",
    "    print('- average elevation change: {:.4f}'.format(elevation_range.mean().item()))\n",
    "    \n"
   ]
  },
  {
   "cell_type": "markdown",
   "id": "4de33017-60cc-4bda-a4f2-bf2830ddaaa5",
   "metadata": {},
   "source": [
    "## Convert all elevation into relative elevation"
   ]
  },
  {
   "cell_type": "code",
   "execution_count": 56,
   "id": "9fc3baf5-abf8-41a7-a972-13c11f531af7",
   "metadata": {},
   "outputs": [
    {
     "name": "stderr",
     "output_type": "stream",
     "text": [
      " 10%|████                                    | 612/6012 [00:40<05:55, 15.20it/s]\n"
     ]
    }
   ],
   "source": [
    "for tif_file in tqdm(nd_files, total=len(tif_files)):\n",
    "    with rasterio.open(tif_file, 'r') as src:\n",
    "        kwrds = src.profile\n",
    "        data = src.read(1)\n",
    "\n",
    "        min_value = data.min()\n",
    "        \n",
    "        # subtract minimum value from the raster\n",
    "        new_data = data - min_value\n",
    "\n",
    "    kwrds.update(\n",
    "        dtype=rasterio.float32,\n",
    "        nodata=None\n",
    "    )\n",
    "    \n",
    "    with rasterio.open(tif_file, 'w', **kwrds) as dst:\n",
    "        dst.write(new_data, 1)\n"
   ]
  },
  {
   "cell_type": "markdown",
   "id": "8b92ee9f-c32d-4dba-8ce6-7d7e5dc55969",
   "metadata": {},
   "source": [
    "## Get mean and standard deviation for all chosen image chips"
   ]
  },
  {
   "cell_type": "code",
   "execution_count": 57,
   "id": "da094464-bae6-41d4-a9b5-7957297a723c",
   "metadata": {},
   "outputs": [
    {
     "name": "stderr",
     "output_type": "stream",
     "text": [
      "100%|█████████████████████████████████████████| 612/612 [00:12<00:00, 49.17it/s]"
     ]
    },
    {
     "name": "stdout",
     "output_type": "stream",
     "text": [
      "Training data stats:\n",
      "- mean: 0.7294\n",
      "- std:  9.3929\n"
     ]
    },
    {
     "name": "stderr",
     "output_type": "stream",
     "text": [
      "\n"
     ]
    }
   ],
   "source": [
    "all_chips = nd_files\n",
    "image_dataset = ImageData(all_chips)\n",
    "image_loader = DataLoader(image_dataset, \n",
    "                      batch_size  = 1, \n",
    "                      shuffle     = False, \n",
    "                      num_workers = 0)\n",
    "\n",
    "psum    = torch.tensor([0.0])\n",
    "psum_sq = torch.tensor([0.0])\n",
    "avg_elevation = []\n",
    "min_elevation = []\n",
    "max_elevation = []\n",
    "elevation_range = []\n",
    "\n",
    "# loop through images\n",
    "for inputs in tqdm(image_loader):\n",
    "    if inputs.max() > 100000 or inputs.min() < 0:\n",
    "        continue\n",
    "    psum += inputs.sum()\n",
    "    psum_sq += (inputs ** 2).sum()\n",
    "\n",
    "    avg_elevation.append(inputs.mean())\n",
    "    min_elevation.append(inputs.mean())\n",
    "    max_elevation.append(inputs.max())\n",
    "    elevation_range.append(inputs.max() - inputs.min())\n",
    "    \n",
    "# pixel count\n",
    "count = len(tif_files) * 800 * 800\n",
    "\n",
    "# mean and STD\n",
    "total_mean = psum / count\n",
    "total_var  = (psum_sq / count) - (total_mean ** 2)\n",
    "total_std  = torch.sqrt(total_var)\n",
    "\n",
    "# output\n",
    "print('Training data stats:')\n",
    "print('- mean: {:.4f}'.format(total_mean.item()))\n",
    "print('- std:  {:.4f}'.format(total_std.item()))\n",
    "\n",
    "avg_elevation = torch.stack(avg_elevation, dim=0)\n",
    "min_elevation = torch.stack(min_elevation, dim=0)\n",
    "max_elevation = torch.stack(max_elevation, dim=0)\n",
    "elevation_range = torch.stack(elevation_range, dim=0)"
   ]
  },
  {
   "cell_type": "code",
   "execution_count": 50,
   "id": "4ea2ce9c-fb5c-4c61-92b4-58b8b305c233",
   "metadata": {},
   "outputs": [
    {
     "data": {
      "text/plain": [
       "Text(0.5, 0, 'Bins')"
      ]
     },
     "execution_count": 50,
     "metadata": {},
     "output_type": "execute_result"
    },
    {
     "data": {
      "image/png": "[encoded data removed]",
      "text/plain": [
       "<Figure size 640x480 with 1 Axes>"
      ]
     },
     "metadata": {},
     "output_type": "display_data"
    }
   ],
   "source": [
    "hist = torch.histc(avg_elevation, bins = 20, min = 0, max = avg_elevation.max())\n",
    "\n",
    "bins = 20\n",
    "x = range(bins)\n",
    "plt.bar(x, hist, align='edge')\n",
    "plt.xlabel('Bins')\n"
   ]
  },
  {
   "cell_type": "code",
   "execution_count": null,
   "id": "3ec4a13c-e089-48ac-84f4-0c2382fedcde",
   "metadata": {},
   "outputs": [],
   "source": []
  }
 ],
 "metadata": {
  "kernelspec": {
   "display_name": "Python 3 (ipykernel)",
   "language": "python",
   "name": "python3"
  },
  "language_info": {
   "codemirror_mode": {
    "name": "ipython",
    "version": 3
   },
   "file_extension": ".py",
   "mimetype": "text/x-python",
   "name": "python",
   "nbconvert_exporter": "python",
   "pygments_lexer": "ipython3",
   "version": "3.10.14"
  }
 },
 "nbformat": 4,
 "nbformat_minor": 5
}
