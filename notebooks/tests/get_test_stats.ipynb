{
 "cells": [
  {
   "cell_type": "code",
   "execution_count": 1,
   "id": "bf6c9c75-2565-4be2-8582-45b9b4863399",
   "metadata": {},
   "outputs": [],
   "source": [
    "import sys\n",
    "import os\n",
    "import rasterio\n",
    "\n",
    "module_path = os.path.abspath(os.path.join('/workspace/Transformer_OD_TPU'))\n",
    "if module_path not in sys.path:\n",
    "    sys.path.append(module_path)"
   ]
  },
  {
   "cell_type": "code",
   "execution_count": 2,
   "id": "1900b160-a179-46a4-9723-c9195499aa74",
   "metadata": {},
   "outputs": [],
   "source": [
    "os.environ[\"CUDA_VISIBLE_DEVICES\"] = \"6\" "
   ]
  },
  {
   "cell_type": "code",
   "execution_count": 3,
   "id": "1d49b4c9-6c5c-4261-b65a-baaff407e9bc",
   "metadata": {},
   "outputs": [],
   "source": [
    "import matplotlib.pyplot as plt\n",
    "import matplotlib.patches as patches"
   ]
  },
  {
   "cell_type": "code",
   "execution_count": 4,
   "id": "9c4b44bc-560b-4873-8b8b-fcf25fa371d4",
   "metadata": {},
   "outputs": [],
   "source": [
    "import argparse\n",
    "import datetime\n",
    "import json\n",
    "import random\n",
    "import time\n",
    "from pathlib import Path\n",
    "from tqdm import tqdm\n",
    "\n",
    "import contextlib\n",
    "import io\n",
    "\n",
    "import numpy as np\n",
    "import torch\n",
    "from torch.utils.data import DataLoader, DistributedSampler\n",
    "torch.set_printoptions(sci_mode=False)\n",
    "\n",
    "import datasets\n",
    "import util.misc as utils\n",
    "from datasets import build_dataset, get_coco_api_from_dataset\n",
    "from engine import evaluate, train_one_epoch\n",
    "from models import build_model"
   ]
  },
  {
   "cell_type": "code",
   "execution_count": 5,
   "id": "1ad02876-8288-40be-b36c-7f40915411c4",
   "metadata": {},
   "outputs": [],
   "source": [
    "import main"
   ]
  },
  {
   "cell_type": "code",
   "execution_count": 36,
   "id": "baf55e1c-7350-4556-be87-2960743bb942",
   "metadata": {},
   "outputs": [],
   "source": [
    "crop = 256\n",
    "dataset = 'transfer_data'"
   ]
  },
  {
   "cell_type": "code",
   "execution_count": 37,
   "id": "68c8ed03-9add-492a-94c9-2e1c3b9d1e78",
   "metadata": {},
   "outputs": [],
   "source": [
    "experiment = f'detr_output_{crop}_binary_skip'\n",
    "if dataset == 'initial_data':\n",
    "    mean = 6.6374\n",
    "    std = 10.184\n",
    "elif dataset == 'transfer_data':\n",
    "    mean = 0.7294\n",
    "    std = 9.3929\n",
    "output_dir = os.path.join('/workspace/',experiment)\n",
    "\n",
    "sys.argv =  ['main.py', '--num_classes', '2', '--coco_path', f'/workspace/processed_data_v7/{dataset}', '--num_workers', '0', '--resume', f'{output_dir}/best_checkpoint.pth', '--batch_size', '1', '--crop', f'{crop}']"
   ]
  },
  {
   "cell_type": "code",
   "execution_count": 38,
   "id": "74e61575-fbba-4726-823e-ed888d855470",
   "metadata": {},
   "outputs": [],
   "source": [
    "parser = main.get_args_parser()\n",
    "args = parser.parse_args()"
   ]
  },
  {
   "cell_type": "code",
   "execution_count": 39,
   "id": "5242575a-6f61-4c35-beab-a09794343fc6",
   "metadata": {},
   "outputs": [
    {
     "name": "stdout",
     "output_type": "stream",
     "text": [
      "loading annotations into memory...\n",
      "Done (t=0.01s)\n",
      "creating index...\n",
      "index created!\n"
     ]
    }
   ],
   "source": [
    "dataset_test = build_dataset(image_set='test', args=args)"
   ]
  },
  {
   "cell_type": "code",
   "execution_count": 40,
   "id": "1685cb9a-252c-46f1-a89c-343bee5c8199",
   "metadata": {},
   "outputs": [],
   "source": [
    "sampler_test = torch.utils.data.SequentialSampler(dataset_test)\n",
    "data_loader_test = DataLoader(dataset_test, 1, sampler=sampler_test,\n",
    "                            drop_last=False, collate_fn=utils.collate_fn, num_workers=args.num_workers)"
   ]
  },
  {
   "cell_type": "code",
   "execution_count": 41,
   "id": "e6993e95-f046-449a-b875-28fb804e5caf",
   "metadata": {},
   "outputs": [],
   "source": [
    "device = torch.device(args.device)\n",
    "model, criterion, postprocessors = build_model(args)\n",
    "model = model.to(device).eval()"
   ]
  },
  {
   "cell_type": "code",
   "execution_count": 42,
   "id": "330f4de9-646b-47f5-8b32-41e755818145",
   "metadata": {},
   "outputs": [
    {
     "data": {
      "text/plain": [
       "<All keys matched successfully>"
      ]
     },
     "execution_count": 42,
     "metadata": {},
     "output_type": "execute_result"
    }
   ],
   "source": [
    "checkpoint = torch.load(args.resume, map_location='cpu')\n",
    "model.load_state_dict(checkpoint['model'])"
   ]
  },
  {
   "cell_type": "code",
   "execution_count": 43,
   "id": "afdc6590-01bc-4b1e-96ff-bd21f55edd3a",
   "metadata": {},
   "outputs": [],
   "source": [
    "from datasets.coco_eval import CocoEvaluator\n",
    "base_ds = get_coco_api_from_dataset(dataset_test)"
   ]
  },
  {
   "cell_type": "code",
   "execution_count": 44,
   "id": "4b4cf4c8-6a0d-45d4-8137-81a934f6e3f2",
   "metadata": {},
   "outputs": [],
   "source": [
    "%%capture\n",
    "test_stats, coco_evaluator = evaluate(\n",
    "    model, criterion, postprocessors, data_loader_test, base_ds, device, '/workspace'\n",
    ")"
   ]
  },
  {
   "cell_type": "code",
   "execution_count": 45,
   "id": "40e918b5-ff57-40c0-a723-03b6cf93702d",
   "metadata": {},
   "outputs": [],
   "source": [
    "buffer = io.StringIO()\n",
    "\n",
    "# use contextlib.redirect_stdout to redirect the output to the buffer\n",
    "with contextlib.redirect_stdout(buffer):\n",
    "    coco_evaluator.coco_eval['bbox'].summarize()\n",
    "output = buffer.getvalue()\n",
    "\n",
    "# write the output to a file\n",
    "with open(os.path.join(output_dir, f'coco_eval_output_{dataset}.txt'), 'w') as file:\n",
    "    file.write(output)"
   ]
  },
  {
   "cell_type": "code",
   "execution_count": null,
   "id": "baafaf8d-e1ab-47f5-b064-a1bba3cb74fe",
   "metadata": {},
   "outputs": [],
   "source": []
  }
 ],
 "metadata": {
  "kernelspec": {
   "display_name": "Python 3 (ipykernel)",
   "language": "python",
   "name": "python3"
  },
  "language_info": {
   "codemirror_mode": {
    "name": "ipython",
    "version": 3
   },
   "file_extension": ".py",
   "mimetype": "text/x-python",
   "name": "python",
   "nbconvert_exporter": "python",
   "pygments_lexer": "ipython3",
   "version": "3.10.14"
  }
 },
 "nbformat": 4,
 "nbformat_minor": 5
}
